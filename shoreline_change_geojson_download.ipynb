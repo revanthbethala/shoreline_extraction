{
  "nbformat": 4,
  "nbformat_minor": 0,
  "metadata": {
    "colab": {
      "provenance": [],
      "authorship_tag": "ABX9TyN217mdQVbsscyUCrnCufP1",
      "include_colab_link": true
    },
    "kernelspec": {
      "name": "python3",
      "display_name": "Python 3"
    },
    "language_info": {
      "name": "python"
    }
  },
  "cells": [
    {
      "cell_type": "markdown",
      "metadata": {
        "id": "view-in-github",
        "colab_type": "text"
      },
      "source": [
        "<a href=\"https://colab.research.google.com/github/revanthbethala/shoreline_extraction/blob/main/shoreline_change_geojson_download.ipynb\" target=\"_parent\"><img src=\"https://colab.research.google.com/assets/colab-badge.svg\" alt=\"Open In Colab\"/></a>"
      ]
    },
    {
      "cell_type": "code",
      "source": [
        "# import ee\n",
        "# import geemap\n",
        "# from datetime import datetime\n",
        "\n",
        "# # Authenticate and initialize Earth Engine\n",
        "# ee.Authenticate()\n",
        "# ee.Initialize(project=\"ee-revanthbethala\")\n",
        "\n",
        "# # Define the area of interest (AOI)\n",
        "# # coords = [[81.2365, 16.2475], [81.2465, 16.2425], [81.2565, 16.2395]]\n",
        "# place = ee.Geometry.LineString(coords)\n",
        "\n",
        "# # NDWI functions\n",
        "# def add_ndwi_l5(image):\n",
        "#     green = image.select('SR_B2').multiply(0.0001)\n",
        "#     nir = image.select('SR_B4').multiply(0.0001)\n",
        "#     ndwi = green.subtract(nir).divide(green.add(nir)).rename('NDWI')\n",
        "#     return image.addBands(ndwi)\n",
        "\n",
        "# def add_ndwi_l7(image): return add_ndwi_l5(image)\n",
        "# def add_ndwi_l8_9(image):\n",
        "#     green = image.select('SR_B3').multiply(0.0001)\n",
        "#     nir = image.select('SR_B5').multiply(0.0001)\n",
        "#     ndwi = green.subtract(nir).divide(green.add(nir)).rename('NDWI')\n",
        "#     return image.addBands(ndwi)\n",
        "\n",
        "# def add_ndwi_s2(image):\n",
        "#     green = image.select('B3').multiply(0.0001)\n",
        "#     nir = image.select('B8').multiply(0.0001)\n",
        "#     ndwi = green.subtract(nir).divide(green.add(nir)).rename('NDWI')\n",
        "#     return image.addBands(ndwi)\n",
        "\n",
        "# # Add precipitation band\n",
        "# def add_environmental_covariates(image):\n",
        "#     date = ee.Date(image.get('system:time_start'))\n",
        "#     era5 = ee.ImageCollection('ECMWF/ERA5/DAILY').filterDate(date, date.advance(1, 'day')).first()\n",
        "#     precipitation = ee.Algorithms.If(era5, era5.select('total_precipitation').rename('precipitation'), ee.Image(0).rename('precipitation'))\n",
        "#     return image.addBands(ee.Image(precipitation))\n",
        "\n",
        "# # Year and seasons\n",
        "# start_year = 2020\n",
        "# end_year = 2021\n",
        "# seasons = [\n",
        "#     {'name': 'monsoon', 'start': '-06-01', 'end': '-09-30'},\n",
        "#     {'name': 'non-monsoon', 'start': '-10-01', 'end': '-05-31'}\n",
        "# ]\n",
        "\n",
        "# # Map initialization\n",
        "# Map = geemap.Map(center=[16.2435, 81.2465], zoom=12)\n",
        "# shoreline_info = []\n",
        "\n",
        "# # Processing loop\n",
        "# for year in range(start_year, end_year + 1):\n",
        "#     sensors = [{'id': 'LANDSAT', 'start_year': 1994, 'end_year': 2024}]\n",
        "#     if year >= 2015:\n",
        "#         sensors.append({'id': 'SENTINEL2', 'start_year': 2015, 'end_year': 2024})\n",
        "\n",
        "#     for sensor in sensors:\n",
        "#         for season in seasons:\n",
        "#             # Handle cross-year season\n",
        "#             if season['name'] == 'non-monsoon' and season['start'] > season['end']:\n",
        "#                 start_date = f\"{year-1}{season['start']}\"\n",
        "#                 end_date = f\"{year}{season['end']}\"\n",
        "#             else:\n",
        "#                 start_date = f\"{year}{season['start']}\"\n",
        "#                 end_date = f\"{year}{season['end']}\"\n",
        "\n",
        "#             print(f\"\\nProcessing {year} {season['name']} {sensor['id']} from {start_date} to {end_date}...\")\n",
        "\n",
        "#             # Choose image collection and NDWI function\n",
        "#             if sensor['id'] == 'LANDSAT':\n",
        "#                 if year <= 2011:\n",
        "#                     collection_id = \"LANDSAT/LT05/C02/T1_L2\"\n",
        "#                     ndwi_func = add_ndwi_l5\n",
        "#                 elif year <= 2013:\n",
        "#                     collection_id = \"LANDSAT/LE07/C02/T1_L2\"\n",
        "#                     ndwi_func = add_ndwi_l7\n",
        "#                 elif year <= 2021:\n",
        "#                     collection_id = \"LANDSAT/LC08/C02/T1_L2\"\n",
        "#                     ndwi_func = add_ndwi_l8_9\n",
        "#                 else:\n",
        "#                     collection_id = \"LANDSAT/LC09/C02/T1_L2\"\n",
        "#                     ndwi_func = add_ndwi_l8_9\n",
        "#             else:\n",
        "#                 collection_id = \"COPERNICUS/S2_SR\"\n",
        "#                 ndwi_func = add_ndwi_s2\n",
        "\n",
        "#             # Load and filter collection\n",
        "#             collection = (\n",
        "#                 ee.ImageCollection(collection_id)\n",
        "#                 .filterBounds(place)\n",
        "#                 .filterDate(start_date, end_date)\n",
        "#                 .filter(ee.Filter.lt('CLOUD_COVER' if 'LANDSAT' in collection_id else 'CLOUDY_PIXEL_PERCENTAGE', 50))\n",
        "#                 .map(ndwi_func)\n",
        "#                 .map(add_environmental_covariates)\n",
        "#             )\n",
        "\n",
        "#             # Check image count\n",
        "#             image_count = collection.size().getInfo()\n",
        "#             print(f\"Number of images: {image_count}\")\n",
        "#             if image_count == 0:\n",
        "#                 print(\"No images found for this time period.\")\n",
        "#                 continue\n",
        "\n",
        "#             # Safe info print\n",
        "#             try:\n",
        "#                 print(\"Sample image info:\")\n",
        "#                 print(collection.first().getInfo())\n",
        "#             except Exception as e:\n",
        "#                 print(f\"Error fetching image info: {e}\")\n",
        "#                 continue\n",
        "\n",
        "#             # Limit to first 3 images per season\n",
        "#             image_list = collection.toList(collection.size())\n",
        "#             for i in range(min(image_count, 3)):\n",
        "#                 image = ee.Image(image_list.get(i))\n",
        "\n",
        "#                 ndwi = image.select('NDWI')\n",
        "#                 water_mask = ndwi.gt(0.2)\n",
        "\n",
        "#                 # Extract shoreline as vector\n",
        "#                 # Step 1: Reduce to polygons\n",
        "#                 shoreline_fc = water_mask.reduceToVectors(\n",
        "#                     geometry=place,\n",
        "#                     scale=10 if 'S2_SR' in collection_id else 30,\n",
        "#                     geometryType='polygon',\n",
        "#                     maxPixels=1e9\n",
        "#                 )\n",
        "#                 def polygon_to_line(feature):\n",
        "#                   coords = feature.geometry().coordinates()\n",
        "#                   line = ee.Geometry.LineString(coords.get(0))  # outer ring\n",
        "#                   return ee.Feature(line)\n",
        "\n",
        "#                 shoreline_lines = shoreline_fc.map(polygon_to_line)\n",
        "#                 # Step 2: Convert polygons to boundary lines\n",
        "\n",
        "#                 # Step 3: Visualize or process\n",
        "#                 # Map.addLayer(shoreline_lines, {'color': 'red'}, f\"Shoreline Line {date}\")\n",
        "\n",
        "\n",
        "#                 # Date and precipitation\n",
        "#                 date = ee.Date(image.get('system:time_start')).format('YYYY-MM-dd').getInfo()\n",
        "#                 try:\n",
        "#                     precipitation = image.select('precipitation').reduceRegion(\n",
        "#                         reducer=ee.Reducer.mean(),\n",
        "#                         geometry=place,\n",
        "#                         scale=10 if 'S2_SR' in collection_id else 30\n",
        "#                     ).get('precipitation').getInfo() or 0\n",
        "#                 except:\n",
        "#                     precipitation = 0\n",
        "\n",
        "#                 shoreline_info.append({\n",
        "#                     'year': year,\n",
        "#                     'season': season['name'],\n",
        "#                     'sensor': sensor['id'],\n",
        "#                     'date': date,\n",
        "#                     'precipitation': precipitation\n",
        "#                 })\n",
        "\n",
        "#                 print(f\"\\nImage {i+1}: {year} {season['name']} {sensor['id']} ({date})\")\n",
        "#                 print(f\"Precipitation: {precipitation:.4f} m\")\n",
        "\n",
        "#                 # Add to map\n",
        "#                 Map.addLayer(water_mask, {'palette': ['blue'], 'opacity': 0.5}, f\"Water Mask {date}\")\n",
        "#                 Map.addLayer(shoreline_fc, {'color': 'red'}, f\"Shoreline {date}\")\n",
        "#                 Map.addLayer(place, {'color': 'yellow'}, 'AOI')\n",
        "\n",
        "# print(\"\\nDisplaying shoreline results on interactive map...\")\n",
        "# Map"
      ],
      "metadata": {
        "id": "kN3xk-AUcgLS",
        "colab": {
          "base_uri": "https://localhost:8080/",
          "height": 17
        },
        "outputId": "dd6ffccb-bbc3-4aa9-cfd8-10ffa03f831b"
      },
      "execution_count": 26,
      "outputs": [
        {
          "output_type": "display_data",
          "data": {
            "text/plain": [
              "<IPython.core.display.HTML object>"
            ],
            "text/html": [
              "\n",
              "            <style>\n",
              "                .geemap-dark {\n",
              "                    --jp-widgets-color: white;\n",
              "                    --jp-widgets-label-color: white;\n",
              "                    --jp-ui-font-color1: white;\n",
              "                    --jp-layout-color2: #454545;\n",
              "                    background-color: #383838;\n",
              "                }\n",
              "\n",
              "                .geemap-dark .jupyter-button {\n",
              "                    --jp-layout-color3: #383838;\n",
              "                }\n",
              "\n",
              "                .geemap-colab {\n",
              "                    background-color: var(--colab-primary-surface-color, white);\n",
              "                }\n",
              "\n",
              "                .geemap-colab .jupyter-button {\n",
              "                    --jp-layout-color3: var(--colab-primary-surface-color, white);\n",
              "                }\n",
              "            </style>\n",
              "            "
            ]
          },
          "metadata": {}
        }
      ]
    },
    {
      "cell_type": "code",
      "source": [
        "import ee\n",
        "import json\n",
        "import geemap\n",
        "ee.Authenticate()\n",
        "ee.Initialize(project=\"ee-revanthbethala\")"
      ],
      "metadata": {
        "id": "-4ywruHUbuA2",
        "colab": {
          "base_uri": "https://localhost:8080/",
          "height": 17
        },
        "outputId": "2e64949b-6816-48ce-f8aa-52616227b97c"
      },
      "execution_count": 27,
      "outputs": [
        {
          "output_type": "display_data",
          "data": {
            "text/plain": [
              "<IPython.core.display.HTML object>"
            ],
            "text/html": [
              "\n",
              "            <style>\n",
              "                .geemap-dark {\n",
              "                    --jp-widgets-color: white;\n",
              "                    --jp-widgets-label-color: white;\n",
              "                    --jp-ui-font-color1: white;\n",
              "                    --jp-layout-color2: #454545;\n",
              "                    background-color: #383838;\n",
              "                }\n",
              "\n",
              "                .geemap-dark .jupyter-button {\n",
              "                    --jp-layout-color3: #383838;\n",
              "                }\n",
              "\n",
              "                .geemap-colab {\n",
              "                    background-color: var(--colab-primary-surface-color, white);\n",
              "                }\n",
              "\n",
              "                .geemap-colab .jupyter-button {\n",
              "                    --jp-layout-color3: var(--colab-primary-surface-color, white);\n",
              "                }\n",
              "            </style>\n",
              "            "
            ]
          },
          "metadata": {}
        }
      ]
    },
    {
      "cell_type": "code",
      "source": [
        "\n",
        "with open('/content/bunder-coords.geojson') as f:\n",
        "    geojson = json.load(f)\n",
        "\n",
        "# Convert to Earth Engine Geometry or FeatureCollection\n",
        "aoi = ee.FeatureCollection(geojson)\n",
        "\n",
        "# If the AOI contains LineStrings and you want to buffer them:\n",
        "buffered_aoi = aoi.geometry().buffer(1000)\n"
      ],
      "metadata": {
        "colab": {
          "base_uri": "https://localhost:8080/",
          "height": 17
        },
        "id": "DeQK9alWCu8S",
        "outputId": "bd76c0ea-f46d-464d-ba01-9d0695381f76"
      },
      "execution_count": 28,
      "outputs": [
        {
          "output_type": "display_data",
          "data": {
            "text/plain": [
              "<IPython.core.display.HTML object>"
            ],
            "text/html": [
              "\n",
              "            <style>\n",
              "                .geemap-dark {\n",
              "                    --jp-widgets-color: white;\n",
              "                    --jp-widgets-label-color: white;\n",
              "                    --jp-ui-font-color1: white;\n",
              "                    --jp-layout-color2: #454545;\n",
              "                    background-color: #383838;\n",
              "                }\n",
              "\n",
              "                .geemap-dark .jupyter-button {\n",
              "                    --jp-layout-color3: #383838;\n",
              "                }\n",
              "\n",
              "                .geemap-colab {\n",
              "                    background-color: var(--colab-primary-surface-color, white);\n",
              "                }\n",
              "\n",
              "                .geemap-colab .jupyter-button {\n",
              "                    --jp-layout-color3: var(--colab-primary-surface-color, white);\n",
              "                }\n",
              "            </style>\n",
              "            "
            ]
          },
          "metadata": {}
        }
      ]
    },
    {
      "cell_type": "code",
      "source": [
        "def add_ndwi_l5(image):\n",
        "    green = image.select('SR_B2').multiply(0.0001)\n",
        "    nir = image.select('SR_B4').multiply(0.0001)\n",
        "    ndwi = green.subtract(nir).divide(green.add(nir)).rename('NDWI')\n",
        "    return image.addBands(ndwi)\n",
        "def add_ndwi_l7(image):\n",
        "    green = image.select('SR_B2').multiply(0.0001)\n",
        "    nir = image.select('SR_B4').multiply(0.0001)\n",
        "    ndwi = green.subtract(nir).divide(green.add(nir)).rename('NDWI')\n",
        "    return image.addBands(ndwi)\n",
        "def add_ndwi_l8_9(image):\n",
        "    green = image.select('SR_B3').multiply(0.0001)\n",
        "    nir = image.select('SR_B5').multiply(0.0001)\n",
        "    ndwi = green.subtract(nir).divide(green.add(nir)).rename('NDWI')\n",
        "    return image.addBands(ndwi)\n",
        "def add_ndwi_s2(image):\n",
        "    green = image.select('B3').multiply(0.0001)\n",
        "    nir = image.select('B8').multiply(0.0001)\n",
        "    ndwi = green.subtract(nir).divide(green.add(nir)).rename('NDWI')\n",
        "    return image.addBands(ndwi)"
      ],
      "metadata": {
        "colab": {
          "base_uri": "https://localhost:8080/",
          "height": 17
        },
        "id": "Fawh51EnDIPw",
        "outputId": "e93557fc-3668-49cd-d066-6c8308798941"
      },
      "execution_count": 29,
      "outputs": [
        {
          "output_type": "display_data",
          "data": {
            "text/plain": [
              "<IPython.core.display.HTML object>"
            ],
            "text/html": [
              "\n",
              "            <style>\n",
              "                .geemap-dark {\n",
              "                    --jp-widgets-color: white;\n",
              "                    --jp-widgets-label-color: white;\n",
              "                    --jp-ui-font-color1: white;\n",
              "                    --jp-layout-color2: #454545;\n",
              "                    background-color: #383838;\n",
              "                }\n",
              "\n",
              "                .geemap-dark .jupyter-button {\n",
              "                    --jp-layout-color3: #383838;\n",
              "                }\n",
              "\n",
              "                .geemap-colab {\n",
              "                    background-color: var(--colab-primary-surface-color, white);\n",
              "                }\n",
              "\n",
              "                .geemap-colab .jupyter-button {\n",
              "                    --jp-layout-color3: var(--colab-primary-surface-color, white);\n",
              "                }\n",
              "            </style>\n",
              "            "
            ]
          },
          "metadata": {}
        }
      ]
    },
    {
      "cell_type": "code",
      "source": [
        "def fetch_images(year, start_date, end_date, buffer_months=2, cloud_thresh=70):\n",
        "    from datetime import datetime, timedelta\n",
        "    # Extend dates if needed\n",
        "    start_dt = datetime.strptime(f\"{year}-{start_date}\", \"%Y-%m-%d\") - timedelta(days=buffer_months*30)\n",
        "    end_dt = datetime.strptime(f\"{year}-{end_date}\", \"%Y-%m-%d\") + timedelta(days=buffer_months*30)\n",
        "    start_str, end_str = start_dt.strftime(\"%Y-%m-%d\"), end_dt.strftime(\"%Y-%m-%d\")\n",
        "    # Collection/year selection\n",
        "    if year <= 2011:\n",
        "        cid, ndwi_fun, scale, cloud_key = \"LANDSAT/LT05/C02/T1_L2\", add_ndwi_l5, 30, 'CLOUD_COVER'\n",
        "    elif 2012 <= year <= 2013:\n",
        "        cid, ndwi_fun, scale, cloud_key = \"LANDSAT/LE07/C02/T1_L2\", add_ndwi_l7, 30, 'CLOUD_COVER'\n",
        "    elif 2014 <= year <= 2021:\n",
        "        cid, ndwi_fun, scale, cloud_key = \"LANDSAT/LC08/C02/T1_L2\", add_ndwi_l8_9, 30, 'CLOUD_COVER'\n",
        "    else:\n",
        "        cid, ndwi_fun, scale, cloud_key = \"COPERNICUS/S2_SR\", add_ndwi_s2, 10, 'CLOUDY_PIXEL_PERCENTAGE'\n",
        "    collection = (ee.ImageCollection(cid)\n",
        "                  .filterBounds(aoi)\n",
        "                  .filterDate(start_str, end_str)\n",
        "                  .filter(ee.Filter.lt(cloud_key, cloud_thresh))\n",
        "                  .map(ndwi_fun)\n",
        "                  .select('NDWI'))\n",
        "    return collection, scale\n"
      ],
      "metadata": {
        "colab": {
          "base_uri": "https://localhost:8080/",
          "height": 17
        },
        "id": "Cf8MNkrKDL2c",
        "outputId": "817e15d7-e3e1-490d-ea4b-3e468d6e0181"
      },
      "execution_count": 30,
      "outputs": [
        {
          "output_type": "display_data",
          "data": {
            "text/plain": [
              "<IPython.core.display.HTML object>"
            ],
            "text/html": [
              "\n",
              "            <style>\n",
              "                .geemap-dark {\n",
              "                    --jp-widgets-color: white;\n",
              "                    --jp-widgets-label-color: white;\n",
              "                    --jp-ui-font-color1: white;\n",
              "                    --jp-layout-color2: #454545;\n",
              "                    background-color: #383838;\n",
              "                }\n",
              "\n",
              "                .geemap-dark .jupyter-button {\n",
              "                    --jp-layout-color3: #383838;\n",
              "                }\n",
              "\n",
              "                .geemap-colab {\n",
              "                    background-color: var(--colab-primary-surface-color, white);\n",
              "                }\n",
              "\n",
              "                .geemap-colab .jupyter-button {\n",
              "                    --jp-layout-color3: var(--colab-primary-surface-color, white);\n",
              "                }\n",
              "            </style>\n",
              "            "
            ]
          },
          "metadata": {}
        }
      ]
    },
    {
      "cell_type": "code",
      "source": [
        "def shoreline_vector(water_mask, scale):\n",
        "    return water_mask.reduceToVectors(\n",
        "        geometry=aoi, scale=scale, geometryType='polygon', maxPixels=1e9)\n"
      ],
      "metadata": {
        "colab": {
          "base_uri": "https://localhost:8080/",
          "height": 17
        },
        "id": "l7IMD2H-DOHi",
        "outputId": "1535ca21-920e-4fef-d40e-4a342351dda5"
      },
      "execution_count": 31,
      "outputs": [
        {
          "output_type": "display_data",
          "data": {
            "text/plain": [
              "<IPython.core.display.HTML object>"
            ],
            "text/html": [
              "\n",
              "            <style>\n",
              "                .geemap-dark {\n",
              "                    --jp-widgets-color: white;\n",
              "                    --jp-widgets-label-color: white;\n",
              "                    --jp-ui-font-color1: white;\n",
              "                    --jp-layout-color2: #454545;\n",
              "                    background-color: #383838;\n",
              "                }\n",
              "\n",
              "                .geemap-dark .jupyter-button {\n",
              "                    --jp-layout-color3: #383838;\n",
              "                }\n",
              "\n",
              "                .geemap-colab {\n",
              "                    background-color: var(--colab-primary-surface-color, white);\n",
              "                }\n",
              "\n",
              "                .geemap-colab .jupyter-button {\n",
              "                    --jp-layout-color3: var(--colab-primary-surface-color, white);\n",
              "                }\n",
              "            </style>\n",
              "            "
            ]
          },
          "metadata": {}
        }
      ]
    },
    {
      "cell_type": "code",
      "source": [
        "years = range(1994, 2008)\n",
        "season_start, season_end = \"06-01\", \"09-30\"  # You can make this a loop for seasons\n",
        "\n",
        "Map = geemap.Map(center=[16.245, 81.246], zoom=12)\n",
        "Map.addLayer(aoi, {}, \"AOI\")\n",
        "\n",
        "for y in years:\n",
        "    # Try normal, else relax filters as needed\n",
        "    coll, scale = fetch_images(y, season_start, season_end, buffer_months=0, cloud_thresh=50)\n",
        "    count = coll.size().getInfo()\n",
        "    if count < 10:\n",
        "        coll, scale = fetch_images(y, season_start, season_end, buffer_months=2, cloud_thresh=70)\n",
        "        count = coll.size().getInfo()\n",
        "    if count == 0:\n",
        "        print(f\"{y}: No data available even after relaxation.\")\n",
        "        continue\n",
        "    median_ndwi = coll.median()\n",
        "    water_mask = median_ndwi.gt(0.2)\n",
        "    shoreline_fc = shoreline_vector(water_mask, scale)\n",
        "    # Visualize on map\n",
        "    Map.addLayer(shoreline_fc.style(color='blue', width=2), {}, f'Shoreline {y}')\n",
        "    print(f\"{y}: Shoreline vector visualized. Images used: {count}\")\n",
        "    # Optional: Export vector to Google Drive (one year at a time)\n",
        "    task = ee.batch.Export.table.toDrive(\n",
        "        collection=shoreline_fc,\n",
        "        description=f'shoreline_{y}',\n",
        "        folder='Shoreline_Results',\n",
        "        fileFormat='GeoJSON'\n",
        "    )\n",
        "    task.start()\n",
        "Map"
      ],
      "metadata": {
        "collapsed": true,
        "id": "14s2K2HVDRc5"
      },
      "execution_count": null,
      "outputs": []
    },
    {
      "cell_type": "code",
      "source": [
        "# Install necessary libraries (if not already installed)\n",
        "# !pip install geopandas shapely matplotlib\n",
        "\n",
        "import os\n",
        "import geopandas as gpd\n",
        "from shapely.geometry import LineString, Point\n",
        "import numpy as np\n",
        "import matplotlib.pyplot as plt\n",
        "from google.colab import drive\n",
        "\n",
        "# Mount Google Drive to access your data\n",
        "drive.mount('/content/drive')\n",
        "\n",
        "# Define path to your shoreline GeoJSON folder within Drive\n",
        "data_folder = '/content/drive/MyDrive/Shoreline_Results'\n",
        "\n",
        "# List GeoJSON files for years 1994 to 2007\n",
        "years = range(1994, 2008)\n",
        "geojson_files = [os.path.join(data_folder, f'shoreline_{year}.geojson') for year in years]\n",
        "\n",
        "# Load GeoJSONs into geopandas GeoDataFrames dictionary\n",
        "shorelines = {}\n",
        "for year, path in zip(years, geojson_files):\n",
        "    if os.path.exists(path):\n",
        "        shorelines[year] = gpd.read_file(path)\n",
        "        print(f\"Loaded shoreline for year {year}\")\n",
        "    else:\n",
        "        print(f\"Warning: GeoJSON missing for year {year}\")\n",
        "\n",
        "# Example: Define simple shore-normal transects manually\n",
        "# UPDATE THIS with your own transect coordinates if you have better ones\n",
        "transect_points = [\n",
        "    ((81.24, 16.24), (81.24, 16.25)),\n",
        "    ((81.245, 16.24), (81.245, 16.25)),\n",
        "    ((81.25, 16.24), (81.25, 16.25))\n",
        "]\n",
        "transects = [LineString([p1, p2]) for p1, p2 in transect_points]\n",
        "transect_gdf = gpd.GeoDataFrame({'geometry': transects})\n",
        "# Print CRS of one shoreline layer and transect layer\n",
        "\n",
        "\n",
        "\n",
        "import matplotlib.pyplot as plt\n",
        "\n",
        "fig, ax = plt.subplots(figsize=(10,10))\n",
        "for year, gdf in shorelines.items():\n",
        "    gdf.plot(ax=ax, label=f'Shoreline {year}', alpha=0.5)\n",
        "transect_gdf.plot(ax=ax, color='red', linewidth=2, label='Transects')\n",
        "plt.legend()\n",
        "plt.show()\n",
        "\n",
        "# Function: Find nearest intersection distance along a transect\n",
        "def shoreline_intersection_distance(shoreline_gdf, transect_line):\n",
        "    intersections = shoreline_gdf.geometry.intersection(transect_line)\n",
        "    points = []\n",
        "    # Sometimes intersects as multipoint or geometrycollection, handle accordingly\n",
        "    for inter in intersections:\n",
        "        if inter.is_empty:\n",
        "            continue\n",
        "        if inter.geom_type == 'Point':\n",
        "            points.append(inter)\n",
        "        elif inter.geom_type == 'MultiPoint':\n",
        "            points.extend([p for p in inter.geoms])\n",
        "        elif inter.geom_type == 'GeometryCollection':\n",
        "            for geom in inter.geoms:\n",
        "                if geom.geom_type == 'Point':\n",
        "                    points.append(geom)\n",
        "    if not points:\n",
        "        return np.nan\n",
        "    origin = Point(transect_line.coords[0])\n",
        "    distances = [origin.distance(p) for p in points]\n",
        "    return min(distances)\n",
        "\n",
        "# Choose baseline reference year (1994) to compute change relative to it\n",
        "baseline_year = 1994\n",
        "if baseline_year not in shorelines:\n",
        "    raise FileNotFoundError(f\"Baseline year {baseline_year} shoreline file not found\")\n",
        "\n",
        "# Compute NSM for each year compared to baseline\n",
        "nsm_results = {}\n",
        "for year, gdf in shorelines.items():\n",
        "    distances_base = [shoreline_intersection_distance(shorelines[baseline_year], t) for t in transect_gdf.geometry]\n",
        "    distances_year = [shoreline_intersection_distance(gdf, t) for t in transect_gdf.geometry]\n",
        "\n",
        "    # Convert to numpy arrays and compute difference\n",
        "    distances_base = np.array(distances_base)\n",
        "    distances_year = np.array(distances_year)\n",
        "    nsm = distances_year - distances_base\n",
        "    nsm_results[year] = nsm\n",
        "\n",
        "    print(f\"Year: {year} NSM per transect: {nsm}\")\n",
        "\n",
        "# Optional: Plot NSM over years for each transect\n",
        "plt.figure(figsize=(12, 6))\n",
        "# Use the keys of the nsm_results dictionary to get the actual years with data\n",
        "years_with_data = sorted(nsm_results.keys())\n",
        "for i in range(len(transects)):\n",
        "    transect_nsm_values = [nsm_results[year][i] for year in years_with_data]\n",
        "    plt.plot(years_with_data, transect_nsm_values, marker='o', label=f'Transect {i+1}')\n",
        "\n",
        "plt.xlabel('Year')\n",
        "plt.ylabel('Net Shoreline Movement (units of coordinate system)')\n",
        "plt.title('Shoreline Change (NSM) per Transect for Available Years')\n",
        "plt.legend()\n",
        "plt.grid(True)\n",
        "plt.show()"
      ],
      "metadata": {
        "colab": {
          "base_uri": "https://localhost:8080/",
          "height": 1000
        },
        "id": "NLjs5ERuLrtb",
        "outputId": "d16461ce-4c3a-4c19-af19-0cbc0925c790"
      },
      "execution_count": 38,
      "outputs": [
        {
          "output_type": "display_data",
          "data": {
            "text/plain": [
              "<IPython.core.display.HTML object>"
            ],
            "text/html": [
              "\n",
              "            <style>\n",
              "                .geemap-dark {\n",
              "                    --jp-widgets-color: white;\n",
              "                    --jp-widgets-label-color: white;\n",
              "                    --jp-ui-font-color1: white;\n",
              "                    --jp-layout-color2: #454545;\n",
              "                    background-color: #383838;\n",
              "                }\n",
              "\n",
              "                .geemap-dark .jupyter-button {\n",
              "                    --jp-layout-color3: #383838;\n",
              "                }\n",
              "\n",
              "                .geemap-colab {\n",
              "                    background-color: var(--colab-primary-surface-color, white);\n",
              "                }\n",
              "\n",
              "                .geemap-colab .jupyter-button {\n",
              "                    --jp-layout-color3: var(--colab-primary-surface-color, white);\n",
              "                }\n",
              "            </style>\n",
              "            "
            ]
          },
          "metadata": {}
        },
        {
          "output_type": "stream",
          "name": "stdout",
          "text": [
            "Drive already mounted at /content/drive; to attempt to forcibly remount, call drive.mount(\"/content/drive\", force_remount=True).\n",
            "Loaded shoreline for year 1994\n",
            "Loaded shoreline for year 1995\n",
            "Warning: GeoJSON missing for year 1996\n",
            "Loaded shoreline for year 1997\n",
            "Warning: GeoJSON missing for year 1998\n",
            "Warning: GeoJSON missing for year 1999\n",
            "Loaded shoreline for year 2000\n",
            "Loaded shoreline for year 2001\n",
            "Warning: GeoJSON missing for year 2002\n",
            "Loaded shoreline for year 2003\n",
            "Loaded shoreline for year 2004\n",
            "Loaded shoreline for year 2005\n",
            "Loaded shoreline for year 2006\n",
            "Loaded shoreline for year 2007\n",
            "Shoreline CRS example: EPSG:4326\n",
            "Transects CRS: None\n"
          ]
        },
        {
          "output_type": "display_data",
          "data": {
            "text/plain": [
              "<Figure size 1000x1000 with 1 Axes>"
            ],
            "image/png": "[encoded data removed]"
          },
          "metadata": {}
        },
        {
          "output_type": "stream",
          "name": "stdout",
          "text": [
            "Year: 1994 NSM per transect: [nan nan nan]\n",
            "Year: 1995 NSM per transect: [nan nan nan]\n",
            "Year: 1997 NSM per transect: [nan nan nan]\n",
            "Year: 2000 NSM per transect: [nan nan nan]\n",
            "Year: 2001 NSM per transect: [nan nan nan]\n",
            "Year: 2003 NSM per transect: [nan nan nan]\n",
            "Year: 2004 NSM per transect: [nan nan nan]\n",
            "Year: 2005 NSM per transect: [nan nan nan]\n",
            "Year: 2006 NSM per transect: [nan nan nan]\n",
            "Year: 2007 NSM per transect: [nan nan nan]\n"
          ]
        },
        {
          "output_type": "display_data",
          "data": {
            "text/plain": [
              "<Figure size 1200x600 with 1 Axes>"
            ],
            "image/png": "[encoded data removed]"
          },
          "metadata": {}
        }
      ]
    }
  ]
}